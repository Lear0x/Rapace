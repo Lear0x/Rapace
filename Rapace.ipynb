{
  "nbformat": 4,
  "nbformat_minor": 0,
  "metadata": {
    "colab": {
      "name": "Rapace.ipynb",
      "provenance": [],
      "collapsed_sections": []
    },
    "kernelspec": {
      "name": "python3",
      "display_name": "Python 3"
    },
    "language_info": {
      "name": "python"
    }
  },
  "cells": [
    {
      "cell_type": "code",
      "execution_count": 4,
      "metadata": {
        "id": "GHZgYi1y43ur"
      },
      "outputs": [],
      "source": [
        "__author__=\"Mathieu Lacroix\"\n",
        "__date__ = \"16/05/2022\""
      ]
    },
    {
      "cell_type": "code",
      "source": [
        "from google.colab import drive\n",
        "drive.mount('/content/drive')"
      ],
      "metadata": {
        "id": "A08cZS2q6MLr"
      },
      "execution_count": null,
      "outputs": []
    },
    {
      "cell_type": "code",
      "source": [
        "!gdown --id 1Jo58wFZaps5zFo6K_K3ab2mHq3g5YDbR # dataset train chouette effraie\n",
        "!gdown --id 16jrQJ9bPxbdcf1D7tU_x_Sa89HzdbRpU # dataset validation chouette effraie\n",
        "!gdown --id 1615omxE0w1yO6YN7qVz7jgqwrex0_-9v # dataset train épervier\n",
        "!gdown --id 11uVxUUgClqN-eAmnOIT_qlLQOPNqgDVf # dataset val épervier\n",
        "!gdown --id 1kQ8uMSW1SAQncB0IdqJkQpixX9yGHTiA # dataset train oiseau pygargue à tête blanche\n",
        "!gdown --id 1TjrEMl96K3nXqb-Ppwb_9jI5F_MSLoBO # dataset val oiseau pygargue à tête blanche\n",
        "!gdown --id 1VomDfsKm1gTpsxAPhuAc4qQVzdnr0T_F # dataset train aigle royale\n",
        "!gdown --id 1IkK8No5JskWOR8al5idpfKegrYfl993H # dataset val aigle royale\n",
        "\n",
        "\n"
      ],
      "metadata": {
        "id": "Pi9n9jMl_6an"
      },
      "execution_count": null,
      "outputs": []
    },
    {
      "cell_type": "code",
      "source": [
        "import PIL\n",
        "import tensorflow as tf\n",
        "import matplotlib.pyplot as plt\n",
        "import numpy as np"
      ],
      "metadata": {
        "id": "MUzpluDXFy3D"
      },
      "execution_count": 6,
      "outputs": []
    },
    {
      "cell_type": "code",
      "source": [
        "import pathlib\n",
        "bird_northern_goshawk_train_url = \"file:READY_bird northern_goshawk_train.zip\"\n",
        "\n",
        "bngt_dir = tf.keras.utils.get_file(origin=bird_northern_goshawk_train_url, archive_format='zip', untar=False, extract=True)\n",
        "bngt_dir = pathlib.Path(bngt_dir)"
      ],
      "metadata": {
        "id": "U9yaf39yGGgD"
      },
      "execution_count": 22,
      "outputs": []
    },
    {
      "cell_type": "code",
      "source": [
        "from zipfile import ZipFile\n",
        "# bngt_dataset_zip = zipfile.ZipFile(\"READY_bird northern_goshawk_train.zip\", \"r\")\n",
        "# Create a ZipFile Object and load sample.zip in it\n",
        "with ZipFile('READY_bird northern_goshawk_train.zip', 'r') as zipObj:\n",
        "   # Get list of files names in zip\n",
        "   listOfiles = zipObj.namelist()\n",
        "   # Iterate over the list of file names in given list & print them\n",
        "   for elem in listOfiles:\n",
        "       print(elem)"
      ],
      "metadata": {
        "colab": {
          "base_uri": "https://localhost:8080/"
        },
        "id": "fZfoQNn3PVOO",
        "outputId": "9debb512-71a6-4b06-9c06-e3eed0d9836c"
      },
      "execution_count": 30,
      "outputs": [
        {
          "output_type": "stream",
          "name": "stdout",
          "text": [
            "READY_bird northern_goshawk_train/\n",
            "READY_bird northern_goshawk_train/00K9Y4B9G0IK.jpg\n",
            "READY_bird northern_goshawk_train/08Y04HI9AWKV.jpg\n",
            "READY_bird northern_goshawk_train/0CS5MNER1RZ4.jpg\n",
            "READY_bird northern_goshawk_train/0N43GK0NQAQK.jpg\n",
            "READY_bird northern_goshawk_train/0QTA35F7Z6IO.jpg\n",
            "READY_bird northern_goshawk_train/0ZBZPPLMJQ3I.jpg\n",
            "READY_bird northern_goshawk_train/0ZQA1Z5U7JSJ.jpg\n",
            "READY_bird northern_goshawk_train/1RU499T7VJB9.jpg\n",
            "READY_bird northern_goshawk_train/24MQVKDLIO6T.jpg\n",
            "READY_bird northern_goshawk_train/24P0KGN7770N.jpg\n",
            "READY_bird northern_goshawk_train/35NKZ36KGH3A.jpg\n",
            "READY_bird northern_goshawk_train/383RPK9C57HV.jpg\n",
            "READY_bird northern_goshawk_train/3G1WJZ5DV4SQ.jpg\n",
            "READY_bird northern_goshawk_train/40AT7GBNDWF3.jpg\n",
            "READY_bird northern_goshawk_train/46VEC0GCQOKB.jpg\n",
            "READY_bird northern_goshawk_train/47JY4CV5B7JP.jpg\n",
            "READY_bird northern_goshawk_train/49XGVMILZHR4.jpg\n",
            "READY_bird northern_goshawk_train/4UMK4FLF7UDR.jpg\n",
            "READY_bird northern_goshawk_train/53KT134RZOGF.jpg\n",
            "READY_bird northern_goshawk_train/5E16SF1KQDIL.jpg\n",
            "READY_bird northern_goshawk_train/5IA2ZDLEMYGL.jpg\n",
            "READY_bird northern_goshawk_train/5Q8O2FVUQKLH.jpg\n",
            "READY_bird northern_goshawk_train/5S2N2XY98F9W.jpg\n",
            "READY_bird northern_goshawk_train/5SUIONV3DC7Z.jpg\n",
            "READY_bird northern_goshawk_train/65U2ORHZEN6M.jpg\n",
            "READY_bird northern_goshawk_train/6901O1CYZ90H.jpg\n",
            "READY_bird northern_goshawk_train/6A1UEYVT27T9.jpg\n",
            "READY_bird northern_goshawk_train/6T9HPGPZJSV3.jpg\n",
            "READY_bird northern_goshawk_train/6ZBNU9AB33K8.jpg\n",
            "READY_bird northern_goshawk_train/7SUBRG5ODF6R.jpg\n",
            "READY_bird northern_goshawk_train/7UQTX6QW7RLA.jpg\n",
            "READY_bird northern_goshawk_train/89OOEPZ26II0.jpg\n",
            "READY_bird northern_goshawk_train/8MWE74Y4LQPS.jpg\n",
            "READY_bird northern_goshawk_train/8QY0N8P7GNI3.jpg\n",
            "READY_bird northern_goshawk_train/8SMFRD23IRTL.jpg\n",
            "READY_bird northern_goshawk_train/8XOYN9XQBLV5.jpg\n",
            "READY_bird northern_goshawk_train/98FQA31KJZRD.jpg\n",
            "READY_bird northern_goshawk_train/9HU9MHFNZ97K.jpg\n",
            "READY_bird northern_goshawk_train/9JXTWRRWLQ54.jpg\n",
            "READY_bird northern_goshawk_train/A43PO5JIJXC0.jpg\n",
            "READY_bird northern_goshawk_train/A74444MAJRQG.jpg\n",
            "READY_bird northern_goshawk_train/AE6J1TD5TDW2.jpg\n",
            "READY_bird northern_goshawk_train/B3DYATVX41NX.jpg\n",
            "READY_bird northern_goshawk_train/BAAOO1JSBVQT.jpg\n",
            "READY_bird northern_goshawk_train/BBJJ2S4LQHP3.jpg\n",
            "READY_bird northern_goshawk_train/BDX8IQP9H2TM.jpg\n",
            "READY_bird northern_goshawk_train/BL9VY7JLEVT1.jpg\n",
            "READY_bird northern_goshawk_train/CHXETZI65EI1.jpg\n",
            "READY_bird northern_goshawk_train/CJY5FV26RURO.jpg\n",
            "READY_bird northern_goshawk_train/CMBI4YB3FIVJ.jpg\n",
            "READY_bird northern_goshawk_train/CV3S264PBD2B.jpg\n",
            "READY_bird northern_goshawk_train/DE0UQUNTQ1ZF.jpg\n",
            "READY_bird northern_goshawk_train/DH4UZJQNQFXX.jpg\n",
            "READY_bird northern_goshawk_train/EFHLE3BD6ULX.jpg\n",
            "READY_bird northern_goshawk_train/ELE7EA7DBGKZ.jpg\n",
            "READY_bird northern_goshawk_train/EZ4S1QOE95OH.jpg\n",
            "READY_bird northern_goshawk_train/FCCH70UMO7C7.jpg\n",
            "READY_bird northern_goshawk_train/GCGRKYJSOK2E.jpg\n",
            "READY_bird northern_goshawk_train/GCUH3J4EHD3F.jpg\n",
            "READY_bird northern_goshawk_train/GQ69JBA1QA0M.jpg\n",
            "READY_bird northern_goshawk_train/GZSRCYZ67OBG.jpg\n",
            "READY_bird northern_goshawk_train/HG4FREQ5PF5W.jpg\n",
            "READY_bird northern_goshawk_train/HSJJ2E3U79OL.jpg\n",
            "READY_bird northern_goshawk_train/IKXFFVYHABN2.jpg\n",
            "READY_bird northern_goshawk_train/J6NWEMTONWSK.jpg\n",
            "READY_bird northern_goshawk_train/JT7FGMG0IRQT.jpg\n",
            "READY_bird northern_goshawk_train/KRK801HIFUCK.jpg\n",
            "READY_bird northern_goshawk_train/L4J8ETAECI67.jpg\n",
            "READY_bird northern_goshawk_train/L5SRAC0I5E7V.jpg\n",
            "READY_bird northern_goshawk_train/L8ZL732CNQ65.jpg\n",
            "READY_bird northern_goshawk_train/LHO209L9NTYN.jpg\n",
            "READY_bird northern_goshawk_train/LJHP9EM2CWCK.jpg\n",
            "READY_bird northern_goshawk_train/LMIJEBN9EOOC.jpg\n",
            "READY_bird northern_goshawk_train/LSK0XE3R9JN5.jpg\n",
            "READY_bird northern_goshawk_train/M8FB2LF14Q69.jpg\n",
            "READY_bird northern_goshawk_train/MDGPDDSVTS5L.jpg\n",
            "READY_bird northern_goshawk_train/ME94Y0DCU2QL.jpg\n",
            "READY_bird northern_goshawk_train/MM50H4D8EEPS.jpg\n",
            "READY_bird northern_goshawk_train/MMMWW6PYLJUC.jpg\n",
            "READY_bird northern_goshawk_train/MVJO6R6O52AA.jpg\n",
            "READY_bird northern_goshawk_train/N38891KYYRYT.jpg\n",
            "READY_bird northern_goshawk_train/OBO1SGGUE444.jpg\n",
            "READY_bird northern_goshawk_train/OI4J9EVEKURM.jpg\n",
            "READY_bird northern_goshawk_train/PH2UXZBC7N30.jpg\n",
            "READY_bird northern_goshawk_train/PQ385J8DK7II.jpg\n",
            "READY_bird northern_goshawk_train/Q237MQ5WQCWA.jpg\n",
            "READY_bird northern_goshawk_train/QDCAJDGWJTTF.jpg\n",
            "READY_bird northern_goshawk_train/ROIK80SHM0VB.jpg\n",
            "READY_bird northern_goshawk_train/RSBM8GHLECVK.jpg\n",
            "READY_bird northern_goshawk_train/RZG4437Q0N71.jpg\n",
            "READY_bird northern_goshawk_train/S07CZAPCTQIN.jpg\n",
            "READY_bird northern_goshawk_train/SA1UV2YQDAPV.jpg\n",
            "READY_bird northern_goshawk_train/SFZZM3UEP8QB.jpg\n",
            "READY_bird northern_goshawk_train/SG68OYZLOFYB.jpg\n",
            "READY_bird northern_goshawk_train/SI5L0RJN8CCZ.jpg\n",
            "READY_bird northern_goshawk_train/SLV74WP25WC9.jpg\n",
            "READY_bird northern_goshawk_train/T1SLRN197BZR.jpg\n",
            "READY_bird northern_goshawk_train/T3HOVNAI31YM.jpg\n",
            "READY_bird northern_goshawk_train/TKSWS5N1N39J.jpg\n",
            "READY_bird northern_goshawk_train/TOJN46D0I5NS.jpg\n",
            "READY_bird northern_goshawk_train/TYYDUNAJASVU.jpg\n",
            "READY_bird northern_goshawk_train/U2MLNW1NRTWG.jpg\n",
            "READY_bird northern_goshawk_train/U4S9YUC1Z4K6.jpg\n",
            "READY_bird northern_goshawk_train/U678HY3ULSM1.jpg\n",
            "READY_bird northern_goshawk_train/V26OLEIESUNJ.jpg\n",
            "READY_bird northern_goshawk_train/V51FSBHYVV81.jpg\n",
            "READY_bird northern_goshawk_train/VT3VF0TD9G0Y.jpg\n",
            "READY_bird northern_goshawk_train/VWSQYDJ2ZDJW.jpg\n",
            "READY_bird northern_goshawk_train/X0Q600FYJ0FV.jpg\n",
            "READY_bird northern_goshawk_train/XMN4Y5K2PNBO.jpg\n",
            "READY_bird northern_goshawk_train/XRYMIXP1KD93.jpg\n",
            "READY_bird northern_goshawk_train/YQ7E5VRR6AV4.jpg\n",
            "READY_bird northern_goshawk_train/YWKLPDZX34LJ.jpg\n",
            "READY_bird northern_goshawk_train/ZS9SJEZ6YCLG.jpg\n"
          ]
        }
      ]
    },
    {
      "cell_type": "code",
      "source": [
        "print(bngt_dir)\n",
        "#image_count = len(list(bngt_dir.glob('*/*.jpg')))\n",
        "#print(image_count)"
      ],
      "metadata": {
        "colab": {
          "base_uri": "https://localhost:8080/"
        },
        "id": "DcwtRqNmGPJa",
        "outputId": "d5bff59f-be8e-4fff-944a-8778c0fa3c12"
      },
      "execution_count": 29,
      "outputs": [
        {
          "output_type": "stream",
          "name": "stdout",
          "text": [
            "/root/.keras/datasets/READY_bird northern_goshawk_train.zip\n"
          ]
        }
      ]
    },
    {
      "cell_type": "code",
      "source": [
        ""
      ],
      "metadata": {
        "id": "y6azUt2cOlwv"
      },
      "execution_count": null,
      "outputs": []
    }
  ]
}